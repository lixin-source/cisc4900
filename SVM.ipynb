{
 "cells": [
  {
   "cell_type": "code",
   "execution_count": null,
   "metadata": {},
   "outputs": [],
   "source": []
  }
 ],
 "metadata": {
  "kernelspec": {
   "display_name": "base",
   "language": "python",
   "name": "python3"
  },
  "language_info": {
   "name": "python",
   "version": "3.8.8"
  },
  "orig_nbformat": 4,
  "vscode": {
   "interpreter": {
    "hash": "952695e1d6e5b64108f8f1a5c5cc1c2b2c118f38eb594e406842ad750ac3b108"
   }
  }
 },
 "nbformat": 4,
 "nbformat_minor": 2
}
