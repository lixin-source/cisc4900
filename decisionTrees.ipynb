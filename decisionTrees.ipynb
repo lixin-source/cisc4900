{
 "cells": [
  {
   "cell_type": "code",
   "execution_count": 25,
   "metadata": {},
   "outputs": [],
   "source": [
    "import matplotlib.pyplot as plt\n",
    "import os\n",
    "import seaborn as sns\n",
    "import warnings\n",
    "from sklearn.model_selection import train_test_split, GridSearchCV\n",
    "from sklearn.tree import DecisionTreeClassifier, DecisionTreeRegressor\n",
    "from sklearn import metrics, preprocessing\n",
    "from sklearn.metrics import mean_squared_error\n",
    "from sklearn.metrics import r2_score\n",
    "\n",
    "import numpy as np\n",
    "import pandas as pd\n",
    "import sklearn as sklearn"
   ]
  },
  {
   "attachments": {},
   "cell_type": "markdown",
   "metadata": {},
   "source": [
    "CSV File"
   ]
  },
  {
   "cell_type": "code",
   "execution_count": 3,
   "metadata": {},
   "outputs": [],
   "source": [
    "data = pd.read_csv(\"bcfile.csv\")"
   ]
  },
  {
   "cell_type": "code",
   "execution_count": 4,
   "metadata": {},
   "outputs": [],
   "source": [
    "df = pd.DataFrame(data)"
   ]
  },
  {
   "attachments": {},
   "cell_type": "markdown",
   "metadata": {},
   "source": [
    "Clean code"
   ]
  },
  {
   "cell_type": "code",
   "execution_count": 9,
   "metadata": {},
   "outputs": [],
   "source": [
    "df.dropna(inplace=True)"
   ]
  },
  {
   "cell_type": "code",
   "execution_count": 10,
   "metadata": {},
   "outputs": [],
   "source": [
    "# drop na seems to have removed 'Blanks' rows\n",
    "df = df[~df['Breast - Adjusted AJCC 6th T (1988-2015)'].str.contains('Blank\\(s\\)')]"
   ]
  },
  {
   "cell_type": "code",
   "execution_count": 11,
   "metadata": {},
   "outputs": [],
   "source": [
    "# drop na seems to have removed 'Unknown' rows\n",
    "df = df[~df['Survival months'].str.contains('Unknown')]"
   ]
  },
  {
   "cell_type": "code",
   "execution_count": 12,
   "metadata": {},
   "outputs": [],
   "source": [
    "race_encode = 'Race recode (W, B, AI, API)'\n",
    "\n",
    "race_encoded = pd.get_dummies(df[race_encode], prefix = race_encode)\n",
    "\n",
    "df = pd.concat([df, race_encoded], axis=1)\n",
    "\n",
    "df.drop('Race recode (W, B, AI, API)', axis=1, inplace=True)"
   ]
  },
  {
   "cell_type": "code",
   "execution_count": 13,
   "metadata": {},
   "outputs": [],
   "source": [
    "sixthstage_encode = 'Breast - Adjusted AJCC 6th T (1988-2015)'\n",
    "\n",
    "sixthstage_encoded = pd.get_dummies(df[sixthstage_encode], prefix = sixthstage_encode)\n",
    "\n",
    "df = pd.concat([df, sixthstage_encoded], axis=1)\n",
    "\n",
    "df.drop('Breast - Adjusted AJCC 6th T (1988-2015)', axis=1, inplace=True)"
   ]
  },
  {
   "cell_type": "code",
   "execution_count": 14,
   "metadata": {},
   "outputs": [],
   "source": [
    "nstage_encode = 'Breast - Adjusted AJCC 6th N (1988-2015)'\n",
    "\n",
    "nstage_encoded = pd.get_dummies(df[nstage_encode], prefix = nstage_encode)\n",
    "\n",
    "df = pd.concat([df, nstage_encoded], axis=1)\n",
    "\n",
    "df.drop('Breast - Adjusted AJCC 6th N (1988-2015)', axis=1, inplace=True)"
   ]
  },
  {
   "cell_type": "code",
   "execution_count": 15,
   "metadata": {},
   "outputs": [],
   "source": [
    "mstage_encode = 'Breast - Adjusted AJCC 6th M (1988-2015)'\n",
    "\n",
    "mstage_encoded = pd.get_dummies(df[mstage_encode], prefix = mstage_encode)\n",
    "\n",
    "df = pd.concat([df, mstage_encoded], axis=1)\n",
    "\n",
    "df.drop('Breast - Adjusted AJCC 6th M (1988-2015)', axis=1, inplace=True)"
   ]
  },
  {
   "cell_type": "code",
   "execution_count": 16,
   "metadata": {},
   "outputs": [],
   "source": [
    "# instead of encoding age, remove \"years\" from value and change it to int type\n",
    "df['Age recode with single ages and 85+'] = df['Age recode with single ages and 85+'].str.replace(' years', '')\n",
    "\n",
    "# # there is a value with 85+ years, so replace '85+' with 85\n",
    "df['Age recode with single ages and 85+'] = df['Age recode with single ages and 85+'].replace('85+', '85')\n",
    "\n",
    "# convert 'Age recode' column to int\n",
    "df['Age recode with single ages and 85+'] = df['Age recode with single ages and 85+'].astype(int)"
   ]
  },
  {
   "cell_type": "code",
   "execution_count": 17,
   "metadata": {},
   "outputs": [],
   "source": [
    "income_encode = 'Median household income inflation adj to 2019'\n",
    "\n",
    "income_encoded = pd.get_dummies(df[income_encode], prefix = income_encode)\n",
    "\n",
    "df = pd.concat([df, income_encoded], axis=1)\n",
    "\n",
    "df.drop('Median household income inflation adj to 2019', axis=1, inplace=True)"
   ]
  },
  {
   "cell_type": "code",
   "execution_count": 18,
   "metadata": {},
   "outputs": [],
   "source": [
    "df['Survival months'] = df['Survival months'].astype(int)"
   ]
  },
  {
   "attachments": {},
   "cell_type": "markdown",
   "metadata": {},
   "source": [
    "Using LazyPredict"
   ]
  },
  {
   "cell_type": "code",
   "execution_count": 31,
   "metadata": {},
   "outputs": [],
   "source": [
    "from lazypredict.Supervised import LazyRegressor"
   ]
  },
  {
   "attachments": {},
   "cell_type": "markdown",
   "metadata": {},
   "source": [
    "Decision Trees"
   ]
  },
  {
   "cell_type": "code",
   "execution_count": null,
   "metadata": {},
   "outputs": [],
   "source": [
    "X = df.drop(columns=['Survival months'])\n",
    "y = df['Survival months']"
   ]
  },
  {
   "attachments": {},
   "cell_type": "markdown",
   "metadata": {},
   "source": [
    "Good for categorical, so maybe good for stage classification?"
   ]
  },
  {
   "cell_type": "code",
   "execution_count": 22,
   "metadata": {},
   "outputs": [],
   "source": [
    "# Concatenate numerical and one-hot encoded categorical features\n",
    "X = pd.concat([income_encoded], axis=1)\n",
    "y = df['Survival months']"
   ]
  },
  {
   "cell_type": "code",
   "execution_count": 23,
   "metadata": {},
   "outputs": [],
   "source": [
    "X_train, X_test, Y_train, Y_test = train_test_split(X, y, test_size=0.3, random_state=1234)"
   ]
  },
  {
   "cell_type": "code",
   "execution_count": 32,
   "metadata": {},
   "outputs": [
    {
     "name": "stderr",
     "output_type": "stream",
     "text": [
      " 62%|██████▏   | 26/42 [2:15:27<46:25, 174.07s/it]    "
     ]
    }
   ],
   "source": [
    "# fit all models\n",
    "reg = LazyRegressor(predictions=True)\n",
    "models, predictions = reg.fit(X_train, X_test, Y_train, Y_test)"
   ]
  },
  {
   "cell_type": "code",
   "execution_count": 29,
   "metadata": {},
   "outputs": [
    {
     "name": "stdout",
     "output_type": "stream",
     "text": [
      "MSE: 3647.70318240394\n",
      "R2: 0.013105469737920594\n"
     ]
    }
   ],
   "source": [
    "# Create the decision tree regression model\n",
    "tree_reg = DecisionTreeRegressor(max_depth=5)\n",
    "tree_reg.fit(X_train, Y_train)\n",
    "\n",
    "# Make predictions on the testing set\n",
    "y_pred = tree_reg.predict(X_test)\n",
    "\n",
    "# Evaluate the model's performance\n",
    "mse = mean_squared_error(Y_test, y_pred)\n",
    "r2 = r2_score(Y_test, y_pred)\n",
    "# rmse = np.sqrt(mse)\n",
    "print('MSE:', mse)\n",
    "print('R2:', r2)"
   ]
  }
 ],
 "metadata": {
  "kernelspec": {
   "display_name": "base",
   "language": "python",
   "name": "python3"
  },
  "language_info": {
   "codemirror_mode": {
    "name": "ipython",
    "version": 3
   },
   "file_extension": ".py",
   "mimetype": "text/x-python",
   "name": "python",
   "nbconvert_exporter": "python",
   "pygments_lexer": "ipython3",
   "version": "3.10.9"
  },
  "orig_nbformat": 4,
  "vscode": {
   "interpreter": {
    "hash": "952695e1d6e5b64108f8f1a5c5cc1c2b2c118f38eb594e406842ad750ac3b108"
   }
  }
 },
 "nbformat": 4,
 "nbformat_minor": 2
}
