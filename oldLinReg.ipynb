{
 "cells": [
  {
   "cell_type": "code",
   "execution_count": 1,
   "metadata": {},
   "outputs": [],
   "source": [
    "from sklearn.linear_model import LinearRegression\n",
    "from sklearn.model_selection import train_test_split\n",
    "from sklearn.model_selection import KFold\n",
    "from sklearn.metrics import mean_squared_error\n",
    "from sklearn.metrics import r2_score\n",
    "\n",
    "import pandas as pd\n",
    "import numpy as np\n",
    "import sklearn as sklearn"
   ]
  },
  {
   "cell_type": "code",
   "execution_count": 2,
   "metadata": {},
   "outputs": [],
   "source": [
    "data = pd.read_csv(\"Breast_Cancer.csv\", dtype={'Status': 'category'})"
   ]
  },
  {
   "cell_type": "code",
   "execution_count": 3,
   "metadata": {},
   "outputs": [],
   "source": [
    "df = pd.DataFrame(data)"
   ]
  },
  {
   "cell_type": "code",
   "execution_count": 4,
   "metadata": {},
   "outputs": [
    {
     "name": "stdout",
     "output_type": "stream",
     "text": [
      "<class 'pandas.core.frame.DataFrame'>\n",
      "RangeIndex: 4024 entries, 0 to 4023\n",
      "Data columns (total 16 columns):\n",
      " #   Column                  Non-Null Count  Dtype   \n",
      "---  ------                  --------------  -----   \n",
      " 0   Age                     4024 non-null   int64   \n",
      " 1   Race                    4024 non-null   object  \n",
      " 2   Marital Status          4024 non-null   object  \n",
      " 3   T Stage                 4024 non-null   object  \n",
      " 4   N Stage                 4024 non-null   object  \n",
      " 5   6th Stage               4024 non-null   object  \n",
      " 6   differentiate           4024 non-null   object  \n",
      " 7   Grade                   4024 non-null   object  \n",
      " 8   A Stage                 4024 non-null   object  \n",
      " 9   Tumor Size              4024 non-null   int64   \n",
      " 10  Estrogen Status         4024 non-null   object  \n",
      " 11  Progesterone Status     4024 non-null   object  \n",
      " 12  Regional Node Examined  4024 non-null   int64   \n",
      " 13  Reginol Node Positive   4024 non-null   int64   \n",
      " 14  Survival Months         4024 non-null   int64   \n",
      " 15  Status                  4024 non-null   category\n",
      "dtypes: category(1), int64(5), object(10)\n",
      "memory usage: 475.6+ KB\n"
     ]
    }
   ],
   "source": [
    "df.info()"
   ]
  },
  {
   "cell_type": "code",
   "execution_count": null,
   "metadata": {},
   "outputs": [],
   "source": [
    "data.head()"
   ]
  },
  {
   "cell_type": "code",
   "execution_count": null,
   "metadata": {},
   "outputs": [],
   "source": [
    "df.head()"
   ]
  },
  {
   "cell_type": "code",
   "execution_count": null,
   "metadata": {},
   "outputs": [],
   "source": [
    "len(data)"
   ]
  },
  {
   "attachments": {},
   "cell_type": "markdown",
   "metadata": {},
   "source": [
    "Linear Regression - Status = Predict using demo "
   ]
  },
  {
   "cell_type": "code",
   "execution_count": 6,
   "metadata": {},
   "outputs": [],
   "source": [
    "# OneHot Encoding to convert to float - STATUS\n",
    "status_encode = 'Status'\n",
    "\n",
    "status_encoded = pd.get_dummies(df[status_encode], prefix = status_encode)\n",
    "\n",
    "df = pd.concat([df, status_encoded], axis=1)\n",
    "\n",
    "df.drop('Status', axis=1, inplace=True)\n"
   ]
  },
  {
   "cell_type": "code",
   "execution_count": 7,
   "metadata": {},
   "outputs": [],
   "source": [
    "# OneHot Encoding to convert to float - MARITAL STATUS\n",
    "maritalstatus_encode = 'Marital Status'\n",
    "\n",
    "maritalstatus_encoded = pd.get_dummies(df[maritalstatus_encode], prefix = maritalstatus_encode)\n",
    "\n",
    "df = pd.concat([df, maritalstatus_encoded], axis=1)\n",
    "\n",
    "df.drop('Marital Status', axis=1, inplace=True)\n"
   ]
  },
  {
   "cell_type": "code",
   "execution_count": 8,
   "metadata": {},
   "outputs": [],
   "source": [
    "# OneHot Encoding to convert to float - MARITAL STATUS\n",
    "race_encode = 'Race'\n",
    "\n",
    "race_encoded = pd.get_dummies(df[race_encode], prefix = race_encode)\n",
    "\n",
    "df = pd.concat([df, race_encoded], axis=1)\n",
    "\n",
    "df.drop('Race', axis=1, inplace=True)"
   ]
  },
  {
   "cell_type": "code",
   "execution_count": 9,
   "metadata": {},
   "outputs": [],
   "source": [
    "df.rename(columns = {'T Stage ':'TStage'}, inplace = True)\n",
    "tstage_encode = 'TStage'\n",
    "\n",
    "tstage_encoded = pd.get_dummies(df[tstage_encode], prefix = tstage_encode)\n",
    "\n",
    "df = pd.concat([df, tstage_encoded], axis=1)\n",
    "\n",
    "df.drop('TStage', axis=1, inplace=True)"
   ]
  },
  {
   "cell_type": "code",
   "execution_count": 10,
   "metadata": {},
   "outputs": [],
   "source": [
    "nstage_encode = 'N Stage'\n",
    "\n",
    "nstage_encoded = pd.get_dummies(df[nstage_encode], prefix = nstage_encode)\n",
    "\n",
    "df = pd.concat([df, nstage_encoded], axis=1)\n",
    "\n",
    "df.drop('N Stage', axis=1, inplace=True)"
   ]
  },
  {
   "cell_type": "code",
   "execution_count": 11,
   "metadata": {},
   "outputs": [],
   "source": [
    "sixthstage_encode = '6th Stage'\n",
    "\n",
    "sixthstage_encoded = pd.get_dummies(df[sixthstage_encode], prefix = sixthstage_encode)\n",
    "\n",
    "df = pd.concat([df, sixthstage_encoded], axis=1)\n",
    "\n",
    "df.drop('6th Stage', axis=1, inplace=True)"
   ]
  },
  {
   "cell_type": "code",
   "execution_count": 12,
   "metadata": {},
   "outputs": [],
   "source": [
    "differentiate_encode = 'differentiate'\n",
    "\n",
    "differentiate_encoded = pd.get_dummies(df[differentiate_encode], prefix = differentiate_encode)\n",
    "\n",
    "df = pd.concat([df, differentiate_encoded], axis=1)\n",
    "\n",
    "df.drop('differentiate', axis=1, inplace=True)"
   ]
  },
  {
   "cell_type": "code",
   "execution_count": 13,
   "metadata": {},
   "outputs": [],
   "source": [
    "grade_encode = 'Grade'\n",
    "\n",
    "grade_encoded = pd.get_dummies(df[grade_encode], prefix = grade_encode)\n",
    "\n",
    "df = pd.concat([df, grade_encoded], axis=1)\n",
    "\n",
    "df.drop('Grade', axis=1, inplace=True)"
   ]
  },
  {
   "cell_type": "code",
   "execution_count": 14,
   "metadata": {},
   "outputs": [],
   "source": [
    "astage_encode = 'A Stage'\n",
    "\n",
    "astage_encoded = pd.get_dummies(df[astage_encode], prefix = astage_encode)\n",
    "\n",
    "df = pd.concat([df, astage_encoded], axis=1)\n",
    "\n",
    "df.drop('A Stage', axis=1, inplace=True)"
   ]
  },
  {
   "cell_type": "code",
   "execution_count": 15,
   "metadata": {},
   "outputs": [],
   "source": [
    "estrogen_encode = 'Estrogen Status'\n",
    "\n",
    "estrogen_encoded = pd.get_dummies(df[estrogen_encode], prefix = estrogen_encode)\n",
    "\n",
    "df = pd.concat([df, estrogen_encoded], axis=1)\n",
    "\n",
    "df.drop('Estrogen Status', axis=1, inplace=True)"
   ]
  },
  {
   "cell_type": "code",
   "execution_count": 16,
   "metadata": {},
   "outputs": [],
   "source": [
    "progesterone_encode = 'Progesterone Status'\n",
    "\n",
    "progesterone_encoded = pd.get_dummies(df[progesterone_encode], prefix = progesterone_encode)\n",
    "\n",
    "df = pd.concat([df, progesterone_encoded], axis=1)\n",
    "\n",
    "df.drop('Progesterone Status', axis=1, inplace=True)"
   ]
  },
  {
   "cell_type": "code",
   "execution_count": 15,
   "metadata": {},
   "outputs": [
    {
     "name": "stdout",
     "output_type": "stream",
     "text": [
      "Age                                        int64\n",
      "Tumor Size                                 int64\n",
      "Regional Node Examined                     int64\n",
      "Reginol Node Positive                      int64\n",
      "Survival Months                            int64\n",
      "Status_Alive                               uint8\n",
      "Status_Dead                                uint8\n",
      "Marital Status_Divorced                    uint8\n",
      "Marital Status_Married                     uint8\n",
      "Marital Status_Separated                   uint8\n",
      "Marital Status_Single                      uint8\n",
      "Marital Status_Widowed                     uint8\n",
      "Race_Black                                 uint8\n",
      "Race_Other                                 uint8\n",
      "Race_White                                 uint8\n",
      "TStage_T1                                  uint8\n",
      "TStage_T2                                  uint8\n",
      "TStage_T3                                  uint8\n",
      "TStage_T4                                  uint8\n",
      "N Stage_N1                                 uint8\n",
      "N Stage_N2                                 uint8\n",
      "N Stage_N3                                 uint8\n",
      "6th Stage_IIA                              uint8\n",
      "6th Stage_IIB                              uint8\n",
      "6th Stage_IIIA                             uint8\n",
      "6th Stage_IIIB                             uint8\n",
      "6th Stage_IIIC                             uint8\n",
      "differentiate_Moderately differentiated    uint8\n",
      "differentiate_Poorly differentiated        uint8\n",
      "differentiate_Undifferentiated             uint8\n",
      "differentiate_Well differentiated          uint8\n",
      "Grade_ anaplastic; Grade IV                uint8\n",
      "Grade_1                                    uint8\n",
      "Grade_2                                    uint8\n",
      "Grade_3                                    uint8\n",
      "A Stage_Distant                            uint8\n",
      "A Stage_Regional                           uint8\n",
      "Estrogen Status_Negative                   uint8\n",
      "Estrogen Status_Positive                   uint8\n",
      "Progesterone Status_Negative               uint8\n",
      "Progesterone Status_Positive               uint8\n",
      "dtype: object\n"
     ]
    }
   ],
   "source": [
    "print(df.dtypes)"
   ]
  },
  {
   "cell_type": "code",
   "execution_count": 19,
   "metadata": {},
   "outputs": [
    {
     "data": {
      "text/plain": [
       "['Age',\n",
       " 'Tumor Size',\n",
       " 'Regional Node Examined',\n",
       " 'Reginol Node Positive',\n",
       " 'Survival Months',\n",
       " 'Status_Alive',\n",
       " 'Status_Dead',\n",
       " 'Marital Status_Divorced',\n",
       " 'Marital Status_Married',\n",
       " 'Marital Status_Separated',\n",
       " 'Marital Status_Single ',\n",
       " 'Marital Status_Widowed',\n",
       " 'Race_Black',\n",
       " 'Race_Other',\n",
       " 'Race_White',\n",
       " 'TStage_T1',\n",
       " 'TStage_T2',\n",
       " 'TStage_T3',\n",
       " 'TStage_T4',\n",
       " 'N Stage_N1',\n",
       " 'N Stage_N2',\n",
       " 'N Stage_N3',\n",
       " '6th Stage_IIA',\n",
       " '6th Stage_IIB',\n",
       " '6th Stage_IIIA',\n",
       " '6th Stage_IIIB',\n",
       " '6th Stage_IIIC',\n",
       " 'differentiate_Moderately differentiated',\n",
       " 'differentiate_Poorly differentiated',\n",
       " 'differentiate_Undifferentiated',\n",
       " 'differentiate_Well differentiated',\n",
       " 'Grade_ anaplastic; Grade IV',\n",
       " 'Grade_1',\n",
       " 'Grade_2',\n",
       " 'Grade_3',\n",
       " 'A Stage_Distant',\n",
       " 'A Stage_Regional',\n",
       " 'Estrogen Status_Negative',\n",
       " 'Estrogen Status_Positive',\n",
       " 'Progesterone Status_Negative',\n",
       " 'Progesterone Status_Positive']"
      ]
     },
     "execution_count": 19,
     "metadata": {},
     "output_type": "execute_result"
    }
   ],
   "source": [
    "list(df.columns)"
   ]
  },
  {
   "attachments": {},
   "cell_type": "markdown",
   "metadata": {},
   "source": [
    "K Fold Cross Validation"
   ]
  },
  {
   "cell_type": "code",
   "execution_count": 21,
   "metadata": {},
   "outputs": [
    {
     "name": "stdout",
     "output_type": "stream",
     "text": [
      "Fold 1 MSE: 502.10\n",
      "Fold 2 MSE: 475.16\n",
      "Fold 3 MSE: 401.31\n",
      "Fold 4 MSE: 415.73\n",
      "Fold 5 MSE: 428.87\n"
     ]
    }
   ],
   "source": [
    "folds = 5\n",
    "\n",
    "kf = KFold(n_splits=folds, shuffle=True, random_state=42)\n",
    "\n",
    "# Define the machine learning model\n",
    "model = LinearRegression()\n",
    "\n",
    "i = 0\n",
    "# Iterate over the K folds\n",
    "for train_index, val_index in kf.split(df):\n",
    "\n",
    "    # Split the data into training and validation sets\n",
    "    train_data = df.iloc[train_index]\n",
    "    val_data = df.iloc[val_index]\n",
    "\n",
    "\n",
    "    # Define the one hot encoded columns\n",
    "    cols = df.columns\n",
    "    cols_list = cols.tolist()\n",
    "    cols_three = pd.concat([df[['Age']], maritalstatus_encoded, race_encoded], axis=1)\n",
    "\n",
    "    # Define training vars\n",
    "    X_train = train_data[cols_three.columns]\n",
    "    X_val = val_data[cols_three.columns]\n",
    "    y_train = train_data['Tumor Size']\n",
    "    y_val = val_data['Tumor Size']\n",
    "\n",
    "    # Fit the model on the training data\n",
    "    model.fit(X_train, y_train)\n",
    "\n",
    "    # Calculate mean squared error on validation\n",
    "    y_pred = model.predict(X_val)\n",
    "    mse = mean_squared_error(y_val, y_pred)\n",
    "    # r2 = r2_score(y_val, y_pred)\n",
    "    \n",
    "    i = i+1\n",
    "    print(f\"Fold {i} MSE: {mse:.2f}\")"
   ]
  },
  {
   "cell_type": "code",
   "execution_count": null,
   "metadata": {},
   "outputs": [],
   "source": [
    "from sklearn.linear_model import LinearRegression\n",
    "from sklearn.model_selection import train_test_split\n",
    "\n",
    "X = pd.concat([df[['Age']], maritalstatus_encoded, race_encoded], axis=1)\n",
    "Y = status_encoded\n",
    "\n",
    "X_train, X_test, y_train, y_test = train_test_split(X, Y, test_size=0.3, random_state=100)"
   ]
  },
  {
   "cell_type": "code",
   "execution_count": null,
   "metadata": {},
   "outputs": [],
   "source": [
    "model = LinearRegression()\n",
    "\n",
    "model.fit(X_train, y_train)"
   ]
  },
  {
   "cell_type": "code",
   "execution_count": null,
   "metadata": {},
   "outputs": [],
   "source": [
    "from sklearn.metrics import r2_score\n",
    "\n",
    "# make predictions on the testing data\n",
    "y_pred = model.predict(X_test)\n",
    "\n",
    "# calculate the R-squared score\n",
    "r2 = r2_score(y_test, y_pred)\n",
    "print('R-squared score:', r2)"
   ]
  },
  {
   "attachments": {},
   "cell_type": "markdown",
   "metadata": {},
   "source": [
    "From the r^2 score being 0.01, race, marital status, and age are not good determinants for status (Alive vs. Dead). So, predict tumor-size instead."
   ]
  },
  {
   "cell_type": "code",
   "execution_count": null,
   "metadata": {},
   "outputs": [],
   "source": [
    "from sklearn.linear_model import LinearRegression\n",
    "from sklearn.model_selection import train_test_split\n",
    "\n",
    "X = pd.concat([df[['Age']], maritalstatus_encoded, race_encoded], axis=1)\n",
    "Y = df[['Tumor Size']]\n",
    "\n",
    "X_train, X_test, y_train, y_test = train_test_split(X, Y, test_size=0.3, random_state=100)"
   ]
  },
  {
   "cell_type": "code",
   "execution_count": null,
   "metadata": {},
   "outputs": [],
   "source": [
    "model = LinearRegression()\n",
    "\n",
    "model.fit(X_train, y_train)"
   ]
  },
  {
   "cell_type": "code",
   "execution_count": null,
   "metadata": {},
   "outputs": [],
   "source": [
    "from sklearn.metrics import r2_score\n",
    "\n",
    "# make predictions on the testing data\n",
    "y_pred = model.predict(X_test)\n",
    "\n",
    "# calculate the R-squared score\n",
    "r2 = r2_score(y_test, y_pred)\n",
    "print('R-squared score:', r2)"
   ]
  },
  {
   "attachments": {},
   "cell_type": "markdown",
   "metadata": {},
   "source": [
    "R^2 score is wayyyy above 1.0, which means we are overfitting (test size .1), but when test size is changed to .2, score becomes very close to 0. Test size .3 is just negative. So, let's just try throwing the whole dataset and seeing what happens"
   ]
  },
  {
   "attachments": {},
   "cell_type": "markdown",
   "metadata": {},
   "source": [
    "One Hot Encoding for Rest of the Columns\n",
    "- using strip() to remove spacing "
   ]
  },
  {
   "cell_type": "code",
   "execution_count": null,
   "metadata": {},
   "outputs": [],
   "source": [
    "print(df['Tumor Size'].unique())"
   ]
  },
  {
   "cell_type": "code",
   "execution_count": null,
   "metadata": {},
   "outputs": [],
   "source": [
    "from sklearn.linear_model import LinearRegression\n",
    "from sklearn.model_selection import train_test_split\n",
    "\n",
    "X_train, X_test, y_train, y_test = train_test_split(df, df[['Tumor Size']], test_size=0.2, random_state=100)"
   ]
  },
  {
   "cell_type": "code",
   "execution_count": null,
   "metadata": {},
   "outputs": [],
   "source": [
    "print(df.dtypes)"
   ]
  },
  {
   "cell_type": "code",
   "execution_count": null,
   "metadata": {},
   "outputs": [],
   "source": [
    "model = LinearRegression()\n",
    "\n",
    "model.fit(X_train, y_train)"
   ]
  },
  {
   "cell_type": "code",
   "execution_count": null,
   "metadata": {},
   "outputs": [],
   "source": [
    "from sklearn.metrics import r2_score\n",
    "\n",
    "# make predictions on the testing data\n",
    "y_pred = model.predict(X_test)\n",
    "\n",
    "# calculate the R-squared score\n",
    "r2 = r2_score(y_test, y_pred)\n",
    "print('R-squared score:', r2)"
   ]
  }
 ],
 "metadata": {
  "kernelspec": {
   "display_name": "base",
   "language": "python",
   "name": "python3"
  },
  "language_info": {
   "codemirror_mode": {
    "name": "ipython",
    "version": 3
   },
   "file_extension": ".py",
   "mimetype": "text/x-python",
   "name": "python",
   "nbconvert_exporter": "python",
   "pygments_lexer": "ipython3",
   "version": "3.10.9"
  },
  "orig_nbformat": 4,
  "vscode": {
   "interpreter": {
    "hash": "952695e1d6e5b64108f8f1a5c5cc1c2b2c118f38eb594e406842ad750ac3b108"
   }
  }
 },
 "nbformat": 4,
 "nbformat_minor": 2
}
